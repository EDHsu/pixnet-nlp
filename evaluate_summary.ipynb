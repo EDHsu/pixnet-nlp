{
 "cells": [
  {
   "cell_type": "code",
   "execution_count": 1,
   "metadata": {
    "collapsed": false
   },
   "outputs": [
    {
     "name": "stderr",
     "output_type": "stream",
     "text": [
      "Building prefix dict from /Users/tripper/Desktop/project/pixnet-nlp/data/DICT_CK+jieba_lower ...\n",
      "Loading model from cache /var/folders/4_/b_9vfbwx41g4t48jrzr0r4vm0000gn/T/jieba.uaab2b61a375629a86d8bcbcdd9e861b1.cache\n",
      "Loading model cost 1.261 seconds.\n",
      "Prefix dict has been built succesfully.\n"
     ]
    }
   ],
   "source": [
    "from utils import TokenQuestion, Word2VecSolver, RetrievalSolver, Question, Solver\n",
    "import collections\n",
    "import jieba\n",
    "import pandas as pd\n",
    "import numpy as np\n",
    "import subprocess\n",
    "from subprocess import PIPE\n",
    "import shlex\n",
    "import re\n",
    "import csv\n",
    "from time import time\n",
    "jieba.set_dictionary('data/DICT_CK+jieba_lower')\n",
    "jieba.add_word('龐燮傍謝', freq=10, tag='xx')\n",
    "ANS = ['a', 'b', 'c', 'd', 'e']\n",
    "WINDOW = 10\n",
    "VEC_SIZE = 100\n"
   ]
  },
  {
   "cell_type": "code",
   "execution_count": 5,
   "metadata": {
    "collapsed": true
   },
   "outputs": [],
   "source": [
    "grep = RetrievalSolver('data/content-zh-lower.txt')"
   ]
  },
  {
   "cell_type": "code",
   "execution_count": 2,
   "metadata": {
    "collapsed": true
   },
   "outputs": [],
   "source": [
    "w2v_jieba_cbow = Word2VecSolver('w2v-experiment/model/', 'cbow')"
   ]
  },
  {
   "cell_type": "code",
   "execution_count": 3,
   "metadata": {
    "collapsed": false
   },
   "outputs": [],
   "source": [
    "val_set = pd.read_csv('question_sample/pre/raw_samples.csv')\n",
    "test_set = pd.read_csv('question_sample/official/hackathon_1000.tsv', sep='\\t', names=['no','content', 'ans', 'a', 'b', 'c', 'd', 'e', 'ans_ref', 'url', 'level'], quoting=csv.QUOTE_NONE)"
   ]
  },
  {
   "cell_type": "code",
   "execution_count": 14,
   "metadata": {
    "collapsed": false
   },
   "outputs": [
    {
     "name": "stdout",
     "output_type": "stream",
     "text": [
      "validation accuracy: 93.77%\n",
      "total validation samples: 546\n",
      "test accuracy: 86.40%\n",
      "total test samples: 1000\n",
      "elapsed time: 508.40 sec\n",
      "rate: 0.33 sec/sample\n"
     ]
    }
   ],
   "source": [
    "# grep + word2vec(jieba+cbow) aggregation\n",
    "t = time()\n",
    "correct, total = 0, 0\n",
    "for index, row in val_set.iterrows():\n",
    "    q = TokenQuestion(row, 'jieba')\n",
    "    grep.solve(q)\n",
    "    if grep.prediction != Solver.UNSOLVED:\n",
    "        if grep.prediction == q.ans: correct += 1\n",
    "        elif len(grep.key) > 0:\n",
    "            w2v_jieba_cbow.solve(q, key = grep.key)\n",
    "            if w2v_jieba_cbow.prediction == q.ans: correct += 1\n",
    "        total += 1\n",
    "print('validation accuracy: {:.2f}%'.format(100*float(correct)/float(total)))\n",
    "print('total validation samples: {}'.format(total))\n",
    "\n",
    "temp = total\n",
    "correct, total = 0, 0\n",
    "for index, row in test_set.iterrows():\n",
    "    q = TokenQuestion(row, 'jieba')\n",
    "    grep.solve(q)\n",
    "    if grep.prediction != Solver.UNSOLVED:\n",
    "        if grep.prediction == q.ans: correct += 1\n",
    "        elif len(grep.key) > 0:\n",
    "            w2v_jieba_cbow.solve(q, key = grep.key)\n",
    "            if w2v_jieba_cbow.prediction == q.ans: correct += 1\n",
    "        total += 1\n",
    "elapsed = time() - t\n",
    "\n",
    "print('test accuracy: {:.2f}%'.format(100*float(correct)/float(total)))\n",
    "print('total test samples: {}'.format(total))\n",
    "print('elapsed time: {:.2f} sec'.format(elapsed))\n",
    "print('rate: {:.2f} sec/sample'.format(float(elapsed) / float(temp + total)))\n",
    "\n",
    "# validation accuracy: 93.77%\n",
    "# total validation samples: 546\n",
    "# test accuracy: 86.40%\n",
    "# total test samples: 1000\n",
    "# elapsed time: 508.40 sec\n",
    "# rate: 0.33 sec/sample"
   ]
  },
  {
   "cell_type": "code",
   "execution_count": 4,
   "metadata": {
    "collapsed": false
   },
   "outputs": [
    {
     "name": "stdout",
     "output_type": "stream",
     "text": [
      "validation accuracy: 77.47%\n",
      "total validation samples: 546\n",
      "test accuracy: 77.60%\n",
      "total test samples: 1000\n",
      "elapsed time: 2.74 sec\n",
      "rate: 0.00 sec/sample\n"
     ]
    }
   ],
   "source": [
    "# direct word2vec(jieba+cbow)\n",
    "t = time()\n",
    "correct, total = 0, 0\n",
    "for index, row in val_set.iterrows():\n",
    "    q = TokenQuestion(row, 'jieba')\n",
    "    w2v_jieba_cbow.solve(q)\n",
    "    if w2v_jieba_cbow.prediction != Solver.UNSOLVED:\n",
    "        if w2v_jieba_cbow.prediction == q.ans: correct += 1\n",
    "        total += 1\n",
    "print('validation accuracy: {:.2f}%'.format(100*float(correct)/float(total)))\n",
    "print('total validation samples: {}'.format(total))\n",
    "\n",
    "temp = total\n",
    "correct, total = 0, 0\n",
    "for index, row in test_set.iterrows():\n",
    "    q = TokenQuestion(row, 'jieba')\n",
    "    w2v_jieba_cbow.solve(q)\n",
    "    if w2v_jieba_cbow.prediction != Solver.UNSOLVED:\n",
    "        if w2v_jieba_cbow.prediction == q.ans: correct += 1\n",
    "        total += 1\n",
    "\n",
    "elapsed = time() - t\n",
    "\n",
    "print('test accuracy: {:.2f}%'.format(100*float(correct)/float(total)))\n",
    "print('total test samples: {}'.format(total))\n",
    "print('elapsed time: {:.2f} sec'.format(elapsed))\n",
    "print('rate: {:.2f} sec/sample'.format(float(elapsed) / float(temp + total)))\n",
    "\n",
    "# validation accuracy: 77.47%\n",
    "# total validation samples: 546\n",
    "# test accuracy: 77.60%\n",
    "# total test samples: 1000\n",
    "# elapsed time: 2.74 sec\n",
    "# rate: 0.00 sec/sample"
   ]
  },
  {
   "cell_type": "code",
   "execution_count": 4,
   "metadata": {
    "collapsed": false
   },
   "outputs": [
    {
     "name": "stdout",
     "output_type": "stream",
     "text": [
      "validation accuracy: 93.77%\n",
      "total validation samples: 546\n",
      "test accuracy: 71.40%\n",
      "total test samples: 1000\n",
      "elapsed time: 505.71 sec\n",
      "rate: 0.33 sec/sample\n"
     ]
    }
   ],
   "source": [
    "# grep retrieval engine\n",
    "t = time()\n",
    "correct, total = 0, 0\n",
    "for index, row in val_set.iterrows():\n",
    "    q = Question(row)\n",
    "    grep.solve(q)\n",
    "    if grep.prediction != Solver.UNSOLVED:\n",
    "        if grep.prediction == q.ans: correct += 1\n",
    "        total += 1\n",
    "print('validation accuracy: {:.2f}%'.format(100*float(correct)/float(total)))\n",
    "print('total validation samples: {}'.format(total))\n",
    "temp = total\n",
    "correct, total = 0, 0\n",
    "for index, row in test_set.iterrows():\n",
    "    q = Question(row)\n",
    "    grep.solve(q)\n",
    "    if grep.prediction != Solver.UNSOLVED:\n",
    "        if grep.prediction == q.ans: correct += 1\n",
    "        total += 1\n",
    "elapsed = time() - t\n",
    "print('test accuracy: {:.2f}%'.format(100*float(correct)/float(total)))\n",
    "print('total test samples: {}'.format(total))\n",
    "print('elapsed time: {:.2f} sec'.format(elapsed))\n",
    "print('rate: {:.2f} sec/sample'.format(float(elapsed) / float(temp + total)))\n",
    "\n",
    "# validation accuracy: 93.77%\n",
    "# total validation samples: 546\n",
    "# test accuracy: 71.40%\n",
    "# total test samples: 1000\n",
    "# elapsed time: 505.71 sec\n",
    "# rate: 0.33 sec/sample"
   ]
  },
  {
   "cell_type": "code",
   "execution_count": null,
   "metadata": {
    "collapsed": false
   },
   "outputs": [],
   "source": []
  },
  {
   "cell_type": "code",
   "execution_count": null,
   "metadata": {
    "collapsed": false
   },
   "outputs": [],
   "source": []
  },
  {
   "cell_type": "code",
   "execution_count": null,
   "metadata": {
    "collapsed": false
   },
   "outputs": [],
   "source": []
  },
  {
   "cell_type": "code",
   "execution_count": null,
   "metadata": {
    "collapsed": false
   },
   "outputs": [],
   "source": []
  },
  {
   "cell_type": "code",
   "execution_count": null,
   "metadata": {
    "collapsed": false
   },
   "outputs": [],
   "source": []
  },
  {
   "cell_type": "code",
   "execution_count": null,
   "metadata": {
    "collapsed": true
   },
   "outputs": [],
   "source": []
  }
 ],
 "metadata": {
  "kernelspec": {
   "display_name": "Python [Root]",
   "language": "python",
   "name": "Python [Root]"
  },
  "language_info": {
   "codemirror_mode": {
    "name": "ipython",
    "version": 3
   },
   "file_extension": ".py",
   "mimetype": "text/x-python",
   "name": "python",
   "nbconvert_exporter": "python",
   "pygments_lexer": "ipython3",
   "version": "3.5.2"
  }
 },
 "nbformat": 4,
 "nbformat_minor": 0
}
