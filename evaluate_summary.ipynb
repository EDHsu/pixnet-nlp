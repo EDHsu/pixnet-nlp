{
 "cells": [
  {
   "cell_type": "code",
   "execution_count": 1,
   "metadata": {
    "collapsed": false
   },
   "outputs": [],
   "source": [
    "from utils import TokenQuestion, Word2VecSolver, RetrievalSolver, Question, Solver\n",
    "import collections\n",
    "import jieba\n",
    "import pandas as pd\n",
    "import numpy as np\n",
    "import subprocess\n",
    "from subprocess import PIPE\n",
    "import shlex\n",
    "import re\n",
    "import csv\n",
    "from time import time\n",
    "ANS = ['a', 'b', 'c', 'd', 'e']\n",
    "WINDOW = 10\n",
    "VEC_SIZE = 100\n"
   ]
  },
  {
   "cell_type": "code",
   "execution_count": 2,
   "metadata": {
    "collapsed": false
   },
   "outputs": [
    {
     "name": "stderr",
     "output_type": "stream",
     "text": [
      "Building prefix dict from /Users/tripper/Desktop/project/pixnet-nlp/data/DICT_CK+jieba_lower ...\n",
      "Loading model from cache /var/folders/4_/b_9vfbwx41g4t48jrzr0r4vm0000gn/T/jieba.uaab2b61a375629a86d8bcbcdd9e861b1.cache\n",
      "Loading model cost 1.179 seconds.\n",
      "Prefix dict has been built succesfully.\n"
     ]
    }
   ],
   "source": [
    "jieba.set_dictionary('data/DICT_CK+jieba_lower')\n",
    "jieba.load_userdict('data/zhwiki-zh-clean')\n",
    "jieba.add_word('龐燮傍謝', freq=10, tag='xx')\n"
   ]
  },
  {
   "cell_type": "code",
   "execution_count": 12,
   "metadata": {
    "collapsed": true
   },
   "outputs": [],
   "source": [
    "grep = RetrievalSolver('data/content-zh-lower.txt')"
   ]
  },
  {
   "cell_type": "code",
   "execution_count": 3,
   "metadata": {
    "collapsed": true
   },
   "outputs": [],
   "source": [
    "w2v_jieba_cbow = Word2VecSolver('w2v-experiment/model/', 'cbow')"
   ]
  },
  {
   "cell_type": "code",
   "execution_count": 2,
   "metadata": {
    "collapsed": false
   },
   "outputs": [],
   "source": [
    "w2v_uni_cbow = Word2VecSolver('w2v-experiment/model/', 'uni-cbow')"
   ]
  },
  {
   "cell_type": "code",
   "execution_count": 3,
   "metadata": {
    "collapsed": false
   },
   "outputs": [],
   "source": [
    "val_set = pd.read_csv('question_sample/pre/raw_samples.csv')\n",
    "test_set = pd.read_csv('question_sample/official/hackathon_1000.tsv', sep='\\t', names=['no','content', 'ans', 'a', 'b', 'c', 'd', 'e', 'ans_ref', 'url', 'level'], quoting=csv.QUOTE_NONE)"
   ]
  },
  {
   "cell_type": "code",
   "execution_count": 7,
   "metadata": {
    "collapsed": false
   },
   "outputs": [
    {
     "name": "stdout",
     "output_type": "stream",
     "text": [
      "validation accuracy: 63.19%\n",
      "total validation samples: 546\n",
      "test accuracy: 59.60%\n",
      "total test samples: 1000\n",
      "elapsed time: 2.32 sec\n",
      "rate: 0.00 sec/sample\n"
     ]
    }
   ],
   "source": [
    "# direct word2vec(unigram+cbow)\n",
    "t = time()\n",
    "correct, total = 0, 0\n",
    "for index, row in val_set.iterrows():\n",
    "    q = TokenQuestion(row, 'uni')\n",
    "    w2v_uni_cbow.solve(q, uni_gram = True)\n",
    "    if w2v_uni_cbow.prediction != Solver.UNSOLVED:\n",
    "        if w2v_uni_cbow.prediction == q.ans: correct += 1\n",
    "        total += 1\n",
    "    \n",
    "print('validation accuracy: {:.2f}%'.format(100*float(correct)/float(total)))\n",
    "print('total validation samples: {}'.format(total))\n",
    "\n",
    "temp = total\n",
    "correct, total = 0, 0\n",
    "for index, row in test_set.iterrows():\n",
    "    q = TokenQuestion(row, 'uni')\n",
    "    w2v_uni_cbow.solve(q, uni_gram = True)\n",
    "    if w2v_uni_cbow.prediction != Solver.UNSOLVED:\n",
    "        if w2v_uni_cbow.prediction == q.ans: correct += 1\n",
    "        total += 1\n",
    "\n",
    "elapsed = time() - t\n",
    "\n",
    "print('test accuracy: {:.2f}%'.format(100*float(correct)/float(total)))\n",
    "print('total test samples: {}'.format(total))\n",
    "print('elapsed time: {:.2f} sec'.format(elapsed))\n",
    "print('rate: {:.2f} sec/sample'.format(float(elapsed) / float(temp + total)))\n",
    "\n",
    "# validation accuracy: 63.19%\n",
    "# total validation samples: 546\n",
    "# test accuracy: 59.60%\n",
    "# total test samples: 1000\n",
    "# elapsed time: 2.32 sec\n",
    "# rate: 0.00 sec/sample"
   ]
  },
  {
   "cell_type": "code",
   "execution_count": 15,
   "metadata": {
    "collapsed": false
   },
   "outputs": [
    {
     "name": "stdout",
     "output_type": "stream",
     "text": [
      "validation accuracy: 93.77%\n",
      "total validation samples: 546\n",
      "test accuracy: 86.80%\n",
      "total test samples: 1000\n",
      "elapsed time: 1.25 sec\n",
      "rate: 0.00 sec/sample\n"
     ]
    }
   ],
   "source": [
    "# grep + word2vec(jieba+cbow) aggregation\n",
    "t = time()\n",
    "correct, total = 0, 0\n",
    "grep_cached_pred = pd.read_csv('cached/grep_validation.csv')\n",
    "grep_cached_pred.fillna('', inplace=True)\n",
    "for (i1, r1), (i2, r2) in zip(val_set.iterrows(), grep_cached_pred.iterrows()):\n",
    "    q = Question(r1)\n",
    "    if r2.prediction != str(Solver.UNSOLVED):\n",
    "        if r2.prediction == q.ans: correct += 1\n",
    "        elif len(r2.key) > 0:\n",
    "            w2v_jieba_cbow.solve(q, key = r2.key)\n",
    "            if w2v_jieba_cbow.prediction == q.ans: correct += 1\n",
    "        total += 1\n",
    "print('validation accuracy: {:.2f}%'.format(100*float(correct)/float(total)))\n",
    "print('total validation samples: {}'.format(total))\n",
    "\n",
    "temp = total\n",
    "correct, total = 0, 0\n",
    "grep_cached_pred = pd.read_csv('cached/grep_test.csv')\n",
    "grep_cached_pred.fillna('', inplace=True)\n",
    "for (i1, r1), (i2, r2) in zip(test_set.iterrows(), grep_cached_pred.iterrows()):\n",
    "    q = Question(r1)\n",
    "    if r2.prediction != str(Solver.UNSOLVED):\n",
    "        if r2.prediction == q.ans: correct += 1\n",
    "        elif len(r2.key) > 0:\n",
    "            w2v_jieba_cbow.solve(q, key = r2.key)\n",
    "            if w2v_jieba_cbow.prediction == q.ans: correct += 1\n",
    "        total += 1\n",
    "elapsed = time() - t\n",
    "\n",
    "print('test accuracy: {:.2f}%'.format(100*float(correct)/float(total)))\n",
    "print('total test samples: {}'.format(total))\n",
    "print('elapsed time: {:.2f} sec'.format(elapsed))\n",
    "print('rate: {:.2f} sec/sample'.format(float(elapsed) / float(temp + total)))\n",
    "\n",
    "# validation accuracy: 93.77%\n",
    "# total validation samples: 546\n",
    "# test accuracy: 86.80%\n",
    "# total test samples: 1000\n",
    "# elapsed time: 561.27 sec\n",
    "# rate: 0.36 sec/sample"
   ]
  },
  {
   "cell_type": "code",
   "execution_count": 8,
   "metadata": {
    "collapsed": false
   },
   "outputs": [
    {
     "name": "stdout",
     "output_type": "stream",
     "text": [
      "validation accuracy: 79.85%\n",
      "total validation samples: 546\n",
      "test accuracy: 79.70%\n",
      "total test samples: 1000\n",
      "elapsed time: 2.46 sec\n",
      "rate: 0.00 sec/sample\n"
     ]
    }
   ],
   "source": [
    "# direct word2vec(jieba+cbow)\n",
    "t = time()\n",
    "correct, total = 0, 0\n",
    "for index, row in val_set.iterrows():\n",
    "    q = TokenQuestion(row, 'jieba')\n",
    "    w2v_jieba_cbow.solve(q)\n",
    "    if w2v_jieba_cbow.prediction != Solver.UNSOLVED:\n",
    "        if w2v_jieba_cbow.prediction == q.ans: correct += 1\n",
    "        total += 1\n",
    "print('validation accuracy: {:.2f}%'.format(100*float(correct)/float(total)))\n",
    "print('total validation samples: {}'.format(total))\n",
    "\n",
    "temp = total\n",
    "correct, total = 0, 0\n",
    "for index, row in test_set.iterrows():\n",
    "    q = TokenQuestion(row, 'jieba')\n",
    "    w2v_jieba_cbow.solve(q)\n",
    "    if w2v_jieba_cbow.prediction != Solver.UNSOLVED:\n",
    "        if w2v_jieba_cbow.prediction == q.ans: correct += 1\n",
    "        total += 1\n",
    "\n",
    "elapsed = time() - t\n",
    "\n",
    "print('test accuracy: {:.2f}%'.format(100*float(correct)/float(total)))\n",
    "print('total test samples: {}'.format(total))\n",
    "print('elapsed time: {:.2f} sec'.format(elapsed))\n",
    "print('rate: {:.2f} sec/sample'.format(float(elapsed) / float(temp + total)))\n",
    "\n",
    "# validation accuracy: 79.85%\n",
    "# total validation samples: 546\n",
    "# test accuracy: 79.70%\n",
    "# total test samples: 1000\n",
    "# elapsed time: 2.48 sec\n",
    "# rate: 0.00 sec/sample"
   ]
  },
  {
   "cell_type": "code",
   "execution_count": 16,
   "metadata": {
    "collapsed": false
   },
   "outputs": [
    {
     "name": "stdout",
     "output_type": "stream",
     "text": [
      "validation accuracy: 93.77%\n",
      "total validation samples: 546\n",
      "test accuracy: 71.40%\n",
      "total test samples: 1000\n",
      "elapsed time: 4811.74 sec\n",
      "rate: 3.11 sec/sample\n"
     ]
    }
   ],
   "source": [
    "# grep retrieval engine\n",
    "t = time()\n",
    "cached_file = 'cached/grep_validation.csv'\n",
    "pred = pd.DataFrame(columns=['no', 'key', 'prediction'])\n",
    "correct, total = 0, 0\n",
    "for index, row in val_set.iterrows():\n",
    "    q = Question(row)\n",
    "    grep.solve(q)\n",
    "    pred = pred.append({'no': q.no, 'key': grep.key, 'prediction': grep.prediction}, ignore_index = True)\n",
    "    if grep.prediction != Solver.UNSOLVED:\n",
    "        if grep.prediction == q.ans: correct += 1\n",
    "        total += 1\n",
    "pred['no'] = pred['no'].astype(int)\n",
    "pred.to_csv(cached_file, index=False)\n",
    "print('validation accuracy: {:.2f}%'.format(100*float(correct)/float(total)))\n",
    "print('total validation samples: {}'.format(total))\n",
    "\n",
    "temp = total\n",
    "cached_file = 'cached/grep_test.csv'\n",
    "pred = pd.DataFrame(columns=['no', 'key', 'prediction'])\n",
    "correct, total = 0, 0\n",
    "for index, row in test_set.iterrows():\n",
    "    q = Question(row)\n",
    "    grep.solve(q)\n",
    "    pred = pred.append({'no': q.no, 'key': grep.key, 'prediction': grep.prediction}, ignore_index = True)\n",
    "    if grep.prediction != Solver.UNSOLVED:\n",
    "        if grep.prediction == q.ans: correct += 1\n",
    "        total += 1\n",
    "elapsed = time() - t\n",
    "pred['no'] = pred['no'].astype(int)\n",
    "pred.to_csv(cached_file, index=False)\n",
    "\n",
    "print('test accuracy: {:.2f}%'.format(100*float(correct)/float(total)))\n",
    "print('total test samples: {}'.format(total))\n",
    "print('elapsed time: {:.2f} sec'.format(elapsed))\n",
    "print('rate: {:.2f} sec/sample'.format(float(elapsed) / float(temp + total)))\n",
    "\n",
    "# validation accuracy: 93.77%\n",
    "# total validation samples: 546\n",
    "# test accuracy: 71.40%\n",
    "# total test samples: 1000\n",
    "# elapsed time: 482.07 sec\n",
    "# rate: 0.31 sec/sample"
   ]
  },
  {
   "cell_type": "code",
   "execution_count": null,
   "metadata": {
    "collapsed": false
   },
   "outputs": [],
   "source": []
  },
  {
   "cell_type": "code",
   "execution_count": null,
   "metadata": {
    "collapsed": false
   },
   "outputs": [],
   "source": []
  },
  {
   "cell_type": "code",
   "execution_count": null,
   "metadata": {
    "collapsed": false
   },
   "outputs": [],
   "source": []
  },
  {
   "cell_type": "code",
   "execution_count": null,
   "metadata": {
    "collapsed": false
   },
   "outputs": [],
   "source": []
  },
  {
   "cell_type": "code",
   "execution_count": null,
   "metadata": {
    "collapsed": false
   },
   "outputs": [],
   "source": []
  },
  {
   "cell_type": "code",
   "execution_count": null,
   "metadata": {
    "collapsed": true
   },
   "outputs": [],
   "source": []
  }
 ],
 "metadata": {
  "anaconda-cloud": {},
  "kernelspec": {
   "display_name": "Python [Root]",
   "language": "python",
   "name": "Python [Root]"
  },
  "language_info": {
   "codemirror_mode": {
    "name": "ipython",
    "version": 3
   },
   "file_extension": ".py",
   "mimetype": "text/x-python",
   "name": "python",
   "nbconvert_exporter": "python",
   "pygments_lexer": "ipython3",
   "version": "3.5.2"
  }
 },
 "nbformat": 4,
 "nbformat_minor": 0
}
