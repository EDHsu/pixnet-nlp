{
 "cells": [
  {
   "cell_type": "code",
   "execution_count": 7,
   "metadata": {
    "collapsed": false
   },
   "outputs": [],
   "source": [
    "import json\n",
    "import re\n",
    "import html\n",
    "import gevent\n",
    "from time import time\n",
    "import codecs\n",
    "import jieba\n",
    "jieba.enable_parallel(8)\n",
    "class ReadFromNLine:\n",
    "    reReplacePat = [(re.compile(r'(<br\\s?/>)+'), r'\\n'),\n",
    "                    (re.compile(r'<[^>]*>'), r''),\n",
    "                    (re.compile(r'https?:\\/\\/(www\\.)?[-a-zA-Z0-9@:%._\\+~#=]{2,256}\\.[a-z]{2,6}\\b([-a-zA-Z0-9@:%_\\+.~#?&//=]*)'), r''),\n",
    "                    (re.compile(r'(\\s*[\\r|\\n]+\\s*)+'), r'\\n'),]\n",
    "    def __init__(self, file, skip_nline = 0, get_nline = 1):\n",
    "        self.skNline = skip_nline\n",
    "        self.getNline = get_nline\n",
    "        self.file = file\n",
    "        self.output = [None] * get_nline\n",
    "    def extract(self):\n",
    "        with open(self.file, 'rb') as f:\n",
    "            for i in range(self.skNline): next(f)\n",
    "            l = 0\n",
    "            for line in f:\n",
    "                try:\n",
    "                    js = json.loads(line.decode(\"utf-8\"))\n",
    "                    content = self.clean(js['content'])\n",
    "                    self.output[l] = {'category': js['category'], 'content': content, 'success': True}\n",
    "                except:\n",
    "                    print('preprocess failed at line: ' + str(l + self.skNline))\n",
    "                    self.output[l] = {'category': '', 'content': '', 'success': False}\n",
    "                # print(js['category'])\n",
    "                # print(js['url'])\n",
    "                # print(repr(content))\n",
    "                l += 1\n",
    "                if l >= self.getNline:\n",
    "                    break\n",
    "        return self.output\n",
    "    def clean(self, rawContent):\n",
    "        content = html.unescape(rawContent)\n",
    "        for pat, rep in ReadFromNLine.reReplacePat:\n",
    "            content = re.sub(pat, rep, content).strip()\n",
    "        return content\n",
    "        \n",
    "\n",
    "\n",
    "        \n"
   ]
  },
  {
   "cell_type": "code",
   "execution_count": 386,
   "metadata": {
    "collapsed": false
   },
   "outputs": [
    {
     "name": "stdout",
     "output_type": "stream",
     "text": [
      "189.8424587249756\n"
     ]
    }
   ],
   "source": [
    "file = 'data/2016-hackathon-qa.jsonl.raw'\n",
    "t = time()\n",
    "preproc = ReadFromNLine(file, skip_nline=0, get_nline=168613)\n",
    "o = preproc.extract()\n",
    "print(time()-t)\n",
    "\n",
    "with codecs.open('data/clean-qa.jsonl', 'wb', encoding='utf-8') as f:\n",
    "    for d in o:\n",
    "        if d['success']:\n",
    "            f.write(json.dumps({'category': d['category'], 'content': d['content']}) + '\\n')"
   ]
  },
  {
   "cell_type": "code",
   "execution_count": 412,
   "metadata": {
    "collapsed": false
   },
   "outputs": [
    {
     "name": "stdout",
     "output_type": "stream",
     "text": [
      "2402.3665919303894\n"
     ]
    }
   ],
   "source": [
    "# import jieba\n",
    "# t = time()\n",
    "# with open('data/clean-qa-jq-cn.jsonl', 'rb') as f:\n",
    "#     with codecs.open('data/jb-cn.txt', 'wb', encoding='utf-8') as g:\n",
    "#         for line in f:\n",
    "#             js = json.loads(line.decode(\"utf-8\"))\n",
    "#             txt = ' '.join(jieba.cut(js['content']))\n",
    "#             g.write(txt + '\\n')\n",
    "# print(time()-t)\n"
   ]
  },
  {
   "cell_type": "code",
   "execution_count": 4,
   "metadata": {
    "collapsed": false
   },
   "outputs": [],
   "source": [
    "# a = '!!!\\r\\n\\r\\n\\xa0\\r\\n髮朵Phyto櫃點:\\xa0\\r\\n髮朵PhytoFB官方網站:\\r\\n別忘了'\n",
    "# print(repr(a))\n",
    "# b = re.sub(r'(\\s*[\\r|\\n]+\\s*)+', '\\n', a)\n",
    "# print(repr(b))\n",
    "# jieba.load_userdict('data/zhwiki-cn-clean')\n",
    "jieba.load_userdict('data/dict-txt-big')"
   ]
  },
  {
   "cell_type": "code",
   "execution_count": 8,
   "metadata": {
    "collapsed": false
   },
   "outputs": [
    {
     "name": "stdout",
     "output_type": "stream",
     "text": [
      "10146.80155801773\n"
     ]
    }
   ],
   "source": [
    "t = time()\n",
    "with open('data/content-cn-lower.txt', 'rb') as f:\n",
    "    with codecs.open('data/jb-cn.txt', 'wb', encoding='utf-8') as g:\n",
    "        for line in f:\n",
    "            txt = ' '.join(jieba.cut(line.decode(\"utf-8\")))\n",
    "            g.write(txt)\n",
    "print(time()-t)"
   ]
  },
  {
   "cell_type": "code",
   "execution_count": null,
   "metadata": {
    "collapsed": true
   },
   "outputs": [],
   "source": []
  }
 ],
 "metadata": {
  "kernelspec": {
   "display_name": "Python 3",
   "language": "python",
   "name": "python3"
  },
  "language_info": {
   "codemirror_mode": {
    "name": "ipython",
    "version": 3
   },
   "file_extension": ".py",
   "mimetype": "text/x-python",
   "name": "python",
   "nbconvert_exporter": "python",
   "pygments_lexer": "ipython3",
   "version": "3.5.2"
  }
 },
 "nbformat": 4,
 "nbformat_minor": 1
}
