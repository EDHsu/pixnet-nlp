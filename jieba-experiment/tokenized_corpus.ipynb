{
 "cells": [
  {
   "cell_type": "code",
   "execution_count": 1,
   "metadata": {
    "collapsed": true
   },
   "outputs": [],
   "source": [
    "import jieba\n",
    "from time import time\n",
    "import re\n",
    "import codecs"
   ]
  },
  {
   "cell_type": "code",
   "execution_count": 2,
   "metadata": {
    "collapsed": false
   },
   "outputs": [
    {
     "name": "stderr",
     "output_type": "stream",
     "text": [
      "Building prefix dict from /home/ryan/Desktop/project/pixnet-nlp/data/DICT_CK+jieba_lower ...\n",
      "Loading model from cache /tmp/jieba.u9667e75c143c6a3b01e85ec6d1cdf9a0.cache\n",
      "Loading model cost 1.115 seconds.\n",
      "Prefix dict has been built succesfully.\n"
     ]
    }
   ],
   "source": [
    "jieba.set_dictionary('../data/DICT_CK+jieba_lower')\n",
    "jieba.load_userdict('../data/zhwiki-zh-clean')"
   ]
  },
  {
   "cell_type": "code",
   "execution_count": 3,
   "metadata": {
    "collapsed": false
   },
   "outputs": [
    {
     "name": "stdout",
     "output_type": "stream",
     "text": [
      "2403.52960896492\n"
     ]
    }
   ],
   "source": [
    "t = time()\n",
    "IDX = 0\n",
    "with open('../data/content-zh-lower.txt', 'rb') as f:\n",
    "    with open('../data/jb-zh.txt', 'wb') as g:\n",
    "        for line in f:\n",
    "            txt = ' '.join(jieba.cut(line.decode(\"utf-8\")))\n",
    "            txt = re.sub(r'\\s+', r' ', txt)\n",
    "            g.write((txt + '\\n').encode('utf-8'))\n",
    "            IDX += 1\n",
    "#             if IDX > 1000: break\n",
    "print(time()-t)"
   ]
  },
  {
   "cell_type": "code",
   "execution_count": null,
   "metadata": {
    "collapsed": false
   },
   "outputs": [],
   "source": []
  }
 ],
 "metadata": {
  "kernelspec": {
   "display_name": "Python 3",
   "language": "python",
   "name": "python3"
  },
  "language_info": {
   "codemirror_mode": {
    "name": "ipython",
    "version": 3
   },
   "file_extension": ".py",
   "mimetype": "text/x-python",
   "name": "python",
   "nbconvert_exporter": "python",
   "pygments_lexer": "ipython3",
   "version": "3.5.2"
  }
 },
 "nbformat": 4,
 "nbformat_minor": 1
}
