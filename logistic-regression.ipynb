{
 "cells": [
  {
   "cell_type": "code",
   "execution_count": 7,
   "metadata": {
    "collapsed": true
   },
   "outputs": [],
   "source": [
    "import pandas as pd\n",
    "import numpy as np\n",
    "from sklearn.linear_model import LogisticRegression\n",
    "from sklearn import cross_validation\n",
    "import xgboost as xgb\n",
    "from os import listdir\n",
    "from os.path import isfile, join\n",
    "import re\n",
    "import jieba\n",
    "import gensim\n",
    "from smart_open import smart_open\n",
    "\n",
    "ANS = ['a', 'b', 'c', 'd', 'e']\n",
    "FEATURES = ['no', 'w_idx', 'word', 'cos_ref','cos_syn1', 'cos_syn0', 'dist_syn0', 'target']\n",
    "WINDOW = 10\n",
    "VEC_SIZE = 100\n",
    "\n",
    "def simple_preprocess(content):\n",
    "    pat = '︽⊙＿⊙︽'\n",
    "    if content.find(pat) < 0: pat = '︽⊙＿⊙'\n",
    "    \n",
    "    content = content.strip().replace(pat, '龐燮傍謝')\n",
    "    wlist = list(jieba.cut(content))\n",
    "    qidx = []\n",
    "    i = 0\n",
    "    for w in wlist:\n",
    "        if w == '龐燮傍謝':\n",
    "            wlist[i] = '*'\n",
    "            qidx.append(i)\n",
    "        i += 1\n",
    "    return (wlist, qidx)\n",
    "\n",
    "def normalize_vec(vec):\n",
    "    mag = ((vec * vec).sum()) ** 0.5\n",
    "    return vec / mag\n",
    "\n",
    "def build_estimate_samples(wlist, qidx):\n",
    "    global WINDOW\n",
    "    temp = wlist[:]\n",
    "    est_sen = []\n",
    "    sen_len = len(wlist)\n",
    "    for i in qidx:\n",
    "        head = max(i - WINDOW, 0)\n",
    "        tail = min(i + WINDOW, sen_len)\n",
    "        est_sen.append(wlist[head : i] + wlist[i + 1 : tail])\n",
    "    return est_sen\n",
    "\n",
    "def generate_feature(no, w_list, opt_list, ans, syn0_model, syn1, prefix):\n",
    "    # input sample: \n",
    "    # w_list = ['高雄','转','144','次','自强号','1700','高雄','开','1923','到','1940','到','台北']\n",
    "    # opt_list = ['两用', '阿明', '员林', '碎屑', '精力']\n",
    "    # ans = 'c'\n",
    "    # prefix = 'cbow'\n",
    "    opt_num = len(opt_list)\n",
    "    ans = opt_list[ANS.index(ans)]  # ans: 'c' --> '员林'\n",
    "    hidd_vec = np.zeros(VEC_SIZE)\n",
    "    for w in w_list:\n",
    "        if w in syn0_model and w != u'*': hidd_vec += syn0_model[w]\n",
    "    feats = []\n",
    "    for w in opt_list:\n",
    "        if w in syn0_model: \n",
    "            w_idx = syn0_model.vocab[w].index\n",
    "            cos_ref = np.dot(syn0_model[w], syn1[w_idx])\n",
    "#             cos_syn1 = np.dot(hidd_vec, syn1[w_idx])\n",
    "            cos_syn1 = np.dot(normalize_vec(hidd_vec), normalize_vec(syn1[w_idx]))\n",
    "#             cos_syn0 = np.dot(hidd_vec, syn0_model[w])\n",
    "            cos_syn0 = np.dot(normalize_vec(hidd_vec), normalize_vec(syn0_model[w]))\n",
    "            dist_syn0 = sum((hidd_vec - syn0_model[w]) ** 2)\n",
    "            if w == ans:\n",
    "                feats.append([no, w_idx, w, cos_ref, cos_syn1, cos_syn0, dist_syn0, 1])\n",
    "            else:\n",
    "                feats.append([no, w_idx, w, cos_ref, cos_syn1, cos_syn0, dist_syn0, 0])\n",
    "        else:\n",
    "            pass\n",
    "    df = pd.DataFrame(feats, columns=[prefix + '_' + f for f in FEATURES])\n",
    "    cols_to_norm = [prefix + '_' + f for f in FEATURES[4:-1]]\n",
    "    df[cols_to_norm] = (df[cols_to_norm] - df[cols_to_norm].mean()) / df[cols_to_norm].std()\n",
    "#     df[cols_to_norm] = (df[cols_to_norm] - df[cols_to_norm].min()) / (df[cols_to_norm].max() - df[cols_to_norm].min())\n",
    "    return df\n",
    "\n",
    "\n",
    "def load_model(path, prefix):\n",
    "    # input sample:\n",
    "    # path = 'w2v-experiment/model/'\n",
    "    # prefix = 'sk'\n",
    "    model = gensim.models.Word2Vec.load_word2vec_format(path + prefix + '-syn0.bin', binary = True)\n",
    "    vocab_size, vector_size = model.syn0.shape\n",
    "    syn1neg = np.zeros((vocab_size, vector_size), dtype=np.float32)\n",
    "    binary_len = np.dtype(np.float32).itemsize * vector_size\n",
    "    with smart_open(path + prefix + '-syn1neg.bin') as fin:\n",
    "        for i in range(vocab_size):\n",
    "            weights = np.fromstring(fin.read(binary_len), dtype=np.float32)\n",
    "            syn1neg[i] = weights\n",
    "    return (model, syn1neg)"
   ]
  },
  {
   "cell_type": "code",
   "execution_count": 41,
   "metadata": {
    "collapsed": false
   },
   "outputs": [],
   "source": []
  },
  {
   "cell_type": "code",
   "execution_count": 2,
   "metadata": {
    "collapsed": false
   },
   "outputs": [
    {
     "name": "stdout",
     "output_type": "stream",
     "text": [
      "(5726, 12)\n"
     ]
    },
    {
     "data": {
      "text/html": [
       "<div>\n",
       "<table border=\"1\" class=\"dataframe\">\n",
       "  <thead>\n",
       "    <tr style=\"text-align: right;\">\n",
       "      <th></th>\n",
       "      <th>w_idx</th>\n",
       "      <th>cbow_cos_ref</th>\n",
       "      <th>cbow_cos_syn1</th>\n",
       "      <th>cbow_cos_syn0</th>\n",
       "      <th>cbow_dist_syn0</th>\n",
       "      <th>sk_no</th>\n",
       "      <th>sk_word</th>\n",
       "      <th>sk_cos_ref</th>\n",
       "      <th>sk_cos_syn1</th>\n",
       "      <th>sk_cos_syn0</th>\n",
       "      <th>sk_dist_syn0</th>\n",
       "      <th>target</th>\n",
       "    </tr>\n",
       "  </thead>\n",
       "  <tbody>\n",
       "    <tr>\n",
       "      <th>5721</th>\n",
       "      <td>10438</td>\n",
       "      <td>3.212975</td>\n",
       "      <td>-0.044324</td>\n",
       "      <td>0.853694</td>\n",
       "      <td>-0.839728</td>\n",
       "      <td>999</td>\n",
       "      <td>两用</td>\n",
       "      <td>4.656869</td>\n",
       "      <td>-0.257106</td>\n",
       "      <td>-0.291752</td>\n",
       "      <td>0.330412</td>\n",
       "      <td>0</td>\n",
       "    </tr>\n",
       "    <tr>\n",
       "      <th>5722</th>\n",
       "      <td>15661</td>\n",
       "      <td>4.379284</td>\n",
       "      <td>0.123536</td>\n",
       "      <td>-0.253477</td>\n",
       "      <td>0.213438</td>\n",
       "      <td>999</td>\n",
       "      <td>阿明</td>\n",
       "      <td>4.713268</td>\n",
       "      <td>0.607256</td>\n",
       "      <td>0.958114</td>\n",
       "      <td>-0.750441</td>\n",
       "      <td>0</td>\n",
       "    </tr>\n",
       "    <tr>\n",
       "      <th>5723</th>\n",
       "      <td>3171</td>\n",
       "      <td>2.885983</td>\n",
       "      <td>1.392450</td>\n",
       "      <td>1.179961</td>\n",
       "      <td>-1.197060</td>\n",
       "      <td>999</td>\n",
       "      <td>员林</td>\n",
       "      <td>6.344345</td>\n",
       "      <td>1.368895</td>\n",
       "      <td>0.831401</td>\n",
       "      <td>-1.211119</td>\n",
       "      <td>1</td>\n",
       "    </tr>\n",
       "    <tr>\n",
       "      <th>5724</th>\n",
       "      <td>30408</td>\n",
       "      <td>3.043319</td>\n",
       "      <td>-1.428999</td>\n",
       "      <td>-1.229303</td>\n",
       "      <td>1.189205</td>\n",
       "      <td>999</td>\n",
       "      <td>碎屑</td>\n",
       "      <td>2.994729</td>\n",
       "      <td>-1.186405</td>\n",
       "      <td>-1.518305</td>\n",
       "      <td>1.330615</td>\n",
       "      <td>0</td>\n",
       "    </tr>\n",
       "    <tr>\n",
       "      <th>5725</th>\n",
       "      <td>17496</td>\n",
       "      <td>2.659255</td>\n",
       "      <td>-0.042663</td>\n",
       "      <td>-0.550874</td>\n",
       "      <td>0.634144</td>\n",
       "      <td>999</td>\n",
       "      <td>精力</td>\n",
       "      <td>2.873720</td>\n",
       "      <td>-0.532640</td>\n",
       "      <td>0.020542</td>\n",
       "      <td>0.300534</td>\n",
       "      <td>0</td>\n",
       "    </tr>\n",
       "  </tbody>\n",
       "</table>\n",
       "</div>"
      ],
      "text/plain": [
       "      w_idx  cbow_cos_ref  cbow_cos_syn1  cbow_cos_syn0  cbow_dist_syn0  \\\n",
       "5721  10438      3.212975      -0.044324       0.853694       -0.839728   \n",
       "5722  15661      4.379284       0.123536      -0.253477        0.213438   \n",
       "5723   3171      2.885983       1.392450       1.179961       -1.197060   \n",
       "5724  30408      3.043319      -1.428999      -1.229303        1.189205   \n",
       "5725  17496      2.659255      -0.042663      -0.550874        0.634144   \n",
       "\n",
       "      sk_no sk_word  sk_cos_ref  sk_cos_syn1  sk_cos_syn0  sk_dist_syn0  \\\n",
       "5721    999      两用    4.656869    -0.257106    -0.291752      0.330412   \n",
       "5722    999      阿明    4.713268     0.607256     0.958114     -0.750441   \n",
       "5723    999      员林    6.344345     1.368895     0.831401     -1.211119   \n",
       "5724    999      碎屑    2.994729    -1.186405    -1.518305      1.330615   \n",
       "5725    999      精力    2.873720    -0.532640     0.020542      0.300534   \n",
       "\n",
       "      target  \n",
       "5721       0  \n",
       "5722       0  \n",
       "5723       1  \n",
       "5724       0  \n",
       "5725       0  "
      ]
     },
     "execution_count": 2,
     "metadata": {},
     "output_type": "execute_result"
    }
   ],
   "source": [
    "overall_df = pd.read_csv('question_official/overall_df.csv')\n",
    "print(overall_df.shape)\n",
    "overall_df.tail()"
   ]
  },
  {
   "cell_type": "code",
   "execution_count": 3,
   "metadata": {
    "collapsed": false
   },
   "outputs": [
    {
     "name": "stdout",
     "output_type": "stream",
     "text": [
      "(5726, 8)\n"
     ]
    },
    {
     "data": {
      "text/html": [
       "<div>\n",
       "<table border=\"1\" class=\"dataframe\">\n",
       "  <thead>\n",
       "    <tr style=\"text-align: right;\">\n",
       "      <th></th>\n",
       "      <th>w_idx</th>\n",
       "      <th>cbow_cos_ref</th>\n",
       "      <th>cbow_cos_syn1</th>\n",
       "      <th>cbow_cos_syn0</th>\n",
       "      <th>cbow_dist_syn0</th>\n",
       "      <th>sk_cos_syn1</th>\n",
       "      <th>sk_cos_syn0</th>\n",
       "      <th>target</th>\n",
       "    </tr>\n",
       "  </thead>\n",
       "  <tbody>\n",
       "    <tr>\n",
       "      <th>5721</th>\n",
       "      <td>10438</td>\n",
       "      <td>3.212975</td>\n",
       "      <td>-0.044324</td>\n",
       "      <td>0.853694</td>\n",
       "      <td>-0.839728</td>\n",
       "      <td>-0.257106</td>\n",
       "      <td>-0.291752</td>\n",
       "      <td>0</td>\n",
       "    </tr>\n",
       "    <tr>\n",
       "      <th>5722</th>\n",
       "      <td>15661</td>\n",
       "      <td>4.379284</td>\n",
       "      <td>0.123536</td>\n",
       "      <td>-0.253477</td>\n",
       "      <td>0.213438</td>\n",
       "      <td>0.607256</td>\n",
       "      <td>0.958114</td>\n",
       "      <td>0</td>\n",
       "    </tr>\n",
       "    <tr>\n",
       "      <th>5723</th>\n",
       "      <td>3171</td>\n",
       "      <td>2.885983</td>\n",
       "      <td>1.392450</td>\n",
       "      <td>1.179961</td>\n",
       "      <td>-1.197060</td>\n",
       "      <td>1.368895</td>\n",
       "      <td>0.831401</td>\n",
       "      <td>1</td>\n",
       "    </tr>\n",
       "    <tr>\n",
       "      <th>5724</th>\n",
       "      <td>30408</td>\n",
       "      <td>3.043319</td>\n",
       "      <td>-1.428999</td>\n",
       "      <td>-1.229303</td>\n",
       "      <td>1.189205</td>\n",
       "      <td>-1.186405</td>\n",
       "      <td>-1.518305</td>\n",
       "      <td>0</td>\n",
       "    </tr>\n",
       "    <tr>\n",
       "      <th>5725</th>\n",
       "      <td>17496</td>\n",
       "      <td>2.659255</td>\n",
       "      <td>-0.042663</td>\n",
       "      <td>-0.550874</td>\n",
       "      <td>0.634144</td>\n",
       "      <td>-0.532640</td>\n",
       "      <td>0.020542</td>\n",
       "      <td>0</td>\n",
       "    </tr>\n",
       "  </tbody>\n",
       "</table>\n",
       "</div>"
      ],
      "text/plain": [
       "      w_idx  cbow_cos_ref  cbow_cos_syn1  cbow_cos_syn0  cbow_dist_syn0  \\\n",
       "5721  10438      3.212975      -0.044324       0.853694       -0.839728   \n",
       "5722  15661      4.379284       0.123536      -0.253477        0.213438   \n",
       "5723   3171      2.885983       1.392450       1.179961       -1.197060   \n",
       "5724  30408      3.043319      -1.428999      -1.229303        1.189205   \n",
       "5725  17496      2.659255      -0.042663      -0.550874        0.634144   \n",
       "\n",
       "      sk_cos_syn1  sk_cos_syn0  target  \n",
       "5721    -0.257106    -0.291752       0  \n",
       "5722     0.607256     0.958114       0  \n",
       "5723     1.368895     0.831401       1  \n",
       "5724    -1.186405    -1.518305       0  \n",
       "5725    -0.532640     0.020542       0  "
      ]
     },
     "execution_count": 3,
     "metadata": {},
     "output_type": "execute_result"
    }
   ],
   "source": [
    "overall_df.drop(['sk_no', 'sk_word', 'sk_cos_ref', 'sk_dist_syn0'], axis=1, inplace=True)\n",
    "print(overall_df.shape)\n",
    "overall_df.tail()"
   ]
  },
  {
   "cell_type": "code",
   "execution_count": 4,
   "metadata": {
    "collapsed": false
   },
   "outputs": [
    {
     "data": {
      "text/html": [
       "<div>\n",
       "<table border=\"1\" class=\"dataframe\">\n",
       "  <thead>\n",
       "    <tr style=\"text-align: right;\">\n",
       "      <th></th>\n",
       "      <th>w_idx</th>\n",
       "      <th>cbow_cos_ref</th>\n",
       "      <th>cbow_cos_syn1</th>\n",
       "      <th>cbow_cos_syn0</th>\n",
       "      <th>cbow_dist_syn0</th>\n",
       "      <th>sk_cos_syn1</th>\n",
       "      <th>sk_cos_syn0</th>\n",
       "      <th>target</th>\n",
       "    </tr>\n",
       "  </thead>\n",
       "  <tbody>\n",
       "    <tr>\n",
       "      <th>5721</th>\n",
       "      <td>-0.353894</td>\n",
       "      <td>3.212975</td>\n",
       "      <td>-0.044324</td>\n",
       "      <td>0.853694</td>\n",
       "      <td>-0.839728</td>\n",
       "      <td>-0.257106</td>\n",
       "      <td>-0.291752</td>\n",
       "      <td>0</td>\n",
       "    </tr>\n",
       "    <tr>\n",
       "      <th>5722</th>\n",
       "      <td>-0.294318</td>\n",
       "      <td>4.379284</td>\n",
       "      <td>0.123536</td>\n",
       "      <td>-0.253477</td>\n",
       "      <td>0.213438</td>\n",
       "      <td>0.607256</td>\n",
       "      <td>0.958114</td>\n",
       "      <td>0</td>\n",
       "    </tr>\n",
       "    <tr>\n",
       "      <th>5723</th>\n",
       "      <td>-0.436784</td>\n",
       "      <td>2.885983</td>\n",
       "      <td>1.392450</td>\n",
       "      <td>1.179961</td>\n",
       "      <td>-1.197060</td>\n",
       "      <td>1.368895</td>\n",
       "      <td>0.831401</td>\n",
       "      <td>1</td>\n",
       "    </tr>\n",
       "    <tr>\n",
       "      <th>5724</th>\n",
       "      <td>-0.126108</td>\n",
       "      <td>3.043319</td>\n",
       "      <td>-1.428999</td>\n",
       "      <td>-1.229303</td>\n",
       "      <td>1.189205</td>\n",
       "      <td>-1.186405</td>\n",
       "      <td>-1.518305</td>\n",
       "      <td>0</td>\n",
       "    </tr>\n",
       "    <tr>\n",
       "      <th>5725</th>\n",
       "      <td>-0.273387</td>\n",
       "      <td>2.659255</td>\n",
       "      <td>-0.042663</td>\n",
       "      <td>-0.550874</td>\n",
       "      <td>0.634144</td>\n",
       "      <td>-0.532640</td>\n",
       "      <td>0.020542</td>\n",
       "      <td>0</td>\n",
       "    </tr>\n",
       "  </tbody>\n",
       "</table>\n",
       "</div>"
      ],
      "text/plain": [
       "         w_idx  cbow_cos_ref  cbow_cos_syn1  cbow_cos_syn0  cbow_dist_syn0  \\\n",
       "5721 -0.353894      3.212975      -0.044324       0.853694       -0.839728   \n",
       "5722 -0.294318      4.379284       0.123536      -0.253477        0.213438   \n",
       "5723 -0.436784      2.885983       1.392450       1.179961       -1.197060   \n",
       "5724 -0.126108      3.043319      -1.428999      -1.229303        1.189205   \n",
       "5725 -0.273387      2.659255      -0.042663      -0.550874        0.634144   \n",
       "\n",
       "      sk_cos_syn1  sk_cos_syn0  target  \n",
       "5721    -0.257106    -0.291752       0  \n",
       "5722     0.607256     0.958114       0  \n",
       "5723     1.368895     0.831401       1  \n",
       "5724    -1.186405    -1.518305       0  \n",
       "5725    -0.532640     0.020542       0  "
      ]
     },
     "execution_count": 4,
     "metadata": {},
     "output_type": "execute_result"
    }
   ],
   "source": [
    "overall_df[['w_idx']] = (overall_df[['w_idx']] - overall_df[['w_idx']].mean()) / overall_df[['w_idx']].std()\n",
    "overall_df.tail()"
   ]
  },
  {
   "cell_type": "code",
   "execution_count": 5,
   "metadata": {
    "collapsed": false
   },
   "outputs": [],
   "source": [
    "data, target = overall_df.drop(['target'],axis=1).values, overall_df['target'].values\n"
   ]
  },
  {
   "cell_type": "code",
   "execution_count": 6,
   "metadata": {
    "collapsed": false
   },
   "outputs": [
    {
     "name": "stdout",
     "output_type": "stream",
     "text": [
      "[ 0.96073298  0.95811518  0.9510917   0.92227074  0.90996503]\n"
     ]
    }
   ],
   "source": [
    "# logistic regression approach\n",
    "clf = LogisticRegression()\n",
    "scores = cross_validation.cross_val_score(clf, data, target, cv=5)\n",
    "print(scores)"
   ]
  },
  {
   "cell_type": "code",
   "execution_count": 12,
   "metadata": {
    "collapsed": false
   },
   "outputs": [
    {
     "name": "stdout",
     "output_type": "stream",
     "text": [
      "running cross validation\n",
      "[0]\ttrain-error:0.0548375+0.0017465\ttest-error:0.0644425+0.0012225\n",
      "[1]\ttrain-error:0.0501225+0.0026195\ttest-error:0.064792+0.003318\n",
      "[2]\ttrain-error:0.046455+0.001048\ttest-error:0.063919+0.001397\n"
     ]
    },
    {
     "data": {
      "text/html": [
       "<div>\n",
       "<table border=\"1\" class=\"dataframe\">\n",
       "  <thead>\n",
       "    <tr style=\"text-align: right;\">\n",
       "      <th></th>\n",
       "      <th>test-error-mean</th>\n",
       "      <th>test-error-std</th>\n",
       "      <th>train-error-mean</th>\n",
       "      <th>train-error-std</th>\n",
       "    </tr>\n",
       "  </thead>\n",
       "  <tbody>\n",
       "    <tr>\n",
       "      <th>0</th>\n",
       "      <td>0.064442</td>\n",
       "      <td>0.001223</td>\n",
       "      <td>0.054837</td>\n",
       "      <td>0.001747</td>\n",
       "    </tr>\n",
       "    <tr>\n",
       "      <th>1</th>\n",
       "      <td>0.064792</td>\n",
       "      <td>0.003318</td>\n",
       "      <td>0.050123</td>\n",
       "      <td>0.002620</td>\n",
       "    </tr>\n",
       "    <tr>\n",
       "      <th>2</th>\n",
       "      <td>0.063919</td>\n",
       "      <td>0.001397</td>\n",
       "      <td>0.046455</td>\n",
       "      <td>0.001048</td>\n",
       "    </tr>\n",
       "  </tbody>\n",
       "</table>\n",
       "</div>"
      ],
      "text/plain": [
       "   test-error-mean  test-error-std  train-error-mean  train-error-std\n",
       "0         0.064442        0.001223          0.054837         0.001747\n",
       "1         0.064792        0.003318          0.050123         0.002620\n",
       "2         0.063919        0.001397          0.046455         0.001048"
      ]
     },
     "execution_count": 12,
     "metadata": {},
     "output_type": "execute_result"
    }
   ],
   "source": [
    "# xgboost regression approach\n",
    "param = {'max_depth':4, 'eta':1, 'silent':1, 'objective':'binary:logistic'}\n",
    "dtrain = xgb.DMatrix( data, label=target)\n",
    "num_round = 3\n",
    "print ('running cross validation')\n",
    "# do cross validation, this will print result out as\n",
    "# [iteration]  metric_name:mean_value+std_value\n",
    "# std_value is standard deviation of the metric\n",
    "xgb.cv(param, dtrain, num_round, nfold=2,\n",
    "       metrics={'error'}, seed = 0,\n",
    "       callbacks=[xgb.callback.print_evaluation(show_stdv=True)])"
   ]
  },
  {
   "cell_type": "code",
   "execution_count": 75,
   "metadata": {
    "collapsed": false
   },
   "outputs": [
    {
     "name": "stdout",
     "output_type": "stream",
     "text": [
      "6, 6, 6, 6, 6, 6, 6, 6, 6, 6, 6, 6, 6, 6, 6, 6, 6, 6, 6, 6, 6, 6, 6, 6, 6, 6, 6, 6, 6, 6, 6, 10, 6, 6, 6, 6, 6, 6, 6, 6, 6, 6, 6, 6, 6, 6, 6, 6, 6, 6, 6, 6, 6, 6, 6, 6, 6, 6, 6, 6, 6, 6, 6, 6, 6, 6, 6, 6, 6, 6, 6, 6, 6, 6, 6, 6, 6, 6, 6, 6, 6, 6, 6, 6, 6, 6, 6, 6, 6, 6, 6, 6, 6, 6, 6, 6, 6, 6, 6, 6, 6, 6, 6, 6, 6, 6, 6, 6, 6, 6, 6, 6, 6, 6, 6, 6, 6, 6, 6, 6, 6, 6, 6, 6, 6, 6, 6, 6, 6, 6, 6, 6, 6, 6, 6, 6, 6, 6, 6, 6, 6, 6, 6, 6, 6, 6, 6, 6, 6, 6, 6, 6, 6, 6, 6, 6, 6, 6, 6, 6, 6, 6, 6, 6, 6, 6, 6, 6, 6, 6, 6, 6, 6, 6, 6, 6, 6, 6, 6, 6, 6, 6, 6, 6, 6, 6, 6, 6, 6, 6, 6, 6, 6, 6, 6, 6, 6, 6, 6, 6, 6, 6, 6, 6, 6, 6, 6, 6, 6, 6, 6, 6, 6, 6, 6, 6, 6, 6, 6, 6, 6, 6, 6, 6, 6, 6, 6, 6, 6, 1, 6, 6, 6, 6, 6, 6, 6, 6, 6, 11, 11, 11, 2, 2, 2, 2, 2, 2, 2, 2, 2, 2, 2, 11, 11, 11, 11, 11, 11, 11, 10, 11, 11, 11, 21, 11, 11, 11, 11, \n",
      "(1366, 9)\n",
      "(550, 9)\n"
     ]
    },
    {
     "data": {
      "text/html": [
       "<div>\n",
       "<table border=\"1\" class=\"dataframe\">\n",
       "  <thead>\n",
       "    <tr style=\"text-align: right;\">\n",
       "      <th></th>\n",
       "      <th>file</th>\n",
       "      <th>no</th>\n",
       "      <th>content</th>\n",
       "      <th>a</th>\n",
       "      <th>b</th>\n",
       "      <th>c</th>\n",
       "      <th>d</th>\n",
       "      <th>e</th>\n",
       "      <th>ans</th>\n",
       "    </tr>\n",
       "  </thead>\n",
       "  <tbody>\n",
       "    <tr>\n",
       "      <th>1095</th>\n",
       "      <td>2016-08-10-01-52-38.txt</td>\n",
       "      <td>1</td>\n",
       "      <td>很想約人，但太遠，騎機車載人又太冷，找人開車對司機又不好意思，光車程來回6小時，就自己速去速...</td>\n",
       "      <td>西門町</td>\n",
       "      <td>智恩寺</td>\n",
       "      <td>脆口</td>\n",
       "      <td>媽媽</td>\n",
       "      <td>濕地</td>\n",
       "      <td>a</td>\n",
       "    </tr>\n",
       "    <tr>\n",
       "      <th>1096</th>\n",
       "      <td>2016-08-10-01-52-38.txt</td>\n",
       "      <td>2</td>\n",
       "      <td>︽⊙＿⊙︽的燕子口有個印地安人頭像，這兒則據說有︽⊙＿⊙︽酋長頭像，但我們並未找到正確位置</td>\n",
       "      <td>野口</td>\n",
       "      <td>缺點</td>\n",
       "      <td>台塑</td>\n",
       "      <td>太魯閣</td>\n",
       "      <td>金屬</td>\n",
       "      <td>d</td>\n",
       "    </tr>\n",
       "    <tr>\n",
       "      <th>1097</th>\n",
       "      <td>2016-08-10-01-52-38.txt</td>\n",
       "      <td>3</td>\n",
       "      <td>或是擦除不小心沾到︽⊙＿⊙︽的皮膚也可以直接使用mdmmd.極緻水漾除彩液，還蠻好清除的</td>\n",
       "      <td>prada</td>\n",
       "      <td>靴子</td>\n",
       "      <td>指甲油</td>\n",
       "      <td>cleansing</td>\n",
       "      <td>蛋型</td>\n",
       "      <td>c</td>\n",
       "    </tr>\n",
       "    <tr>\n",
       "      <th>1098</th>\n",
       "      <td>2016-08-10-01-52-38.txt</td>\n",
       "      <td>4</td>\n",
       "      <td>************************ 本文為︽⊙＿⊙︽邀稿 **********...</td>\n",
       "      <td>小木馬</td>\n",
       "      <td>理想大地</td>\n",
       "      <td>葉記</td>\n",
       "      <td>新湖</td>\n",
       "      <td>阿灶伯</td>\n",
       "      <td>b</td>\n",
       "    </tr>\n",
       "    <tr>\n",
       "      <th>1099</th>\n",
       "      <td>2016-08-10-01-52-38.txt</td>\n",
       "      <td>5</td>\n",
       "      <td>我們住在埔里︽⊙＿⊙︽的稻湘村民宿，司機駕駛功力一流，狹窄的山路依然開得很妥當，一到民宿我們...</td>\n",
       "      <td>儲水</td>\n",
       "      <td>外婆</td>\n",
       "      <td>橋頭</td>\n",
       "      <td>錦記</td>\n",
       "      <td>山上</td>\n",
       "      <td>e</td>\n",
       "    </tr>\n",
       "  </tbody>\n",
       "</table>\n",
       "</div>"
      ],
      "text/plain": [
       "                         file no  \\\n",
       "1095  2016-08-10-01-52-38.txt  1   \n",
       "1096  2016-08-10-01-52-38.txt  2   \n",
       "1097  2016-08-10-01-52-38.txt  3   \n",
       "1098  2016-08-10-01-52-38.txt  4   \n",
       "1099  2016-08-10-01-52-38.txt  5   \n",
       "\n",
       "                                                content      a     b    c  \\\n",
       "1095  很想約人，但太遠，騎機車載人又太冷，找人開車對司機又不好意思，光車程來回6小時，就自己速去速...    西門町   智恩寺   脆口   \n",
       "1096      ︽⊙＿⊙︽的燕子口有個印地安人頭像，這兒則據說有︽⊙＿⊙︽酋長頭像，但我們並未找到正確位置     野口    缺點   台塑   \n",
       "1097       或是擦除不小心沾到︽⊙＿⊙︽的皮膚也可以直接使用mdmmd.極緻水漾除彩液，還蠻好清除的  prada    靴子  指甲油   \n",
       "1098  ************************ 本文為︽⊙＿⊙︽邀稿 **********...    小木馬  理想大地   葉記   \n",
       "1099  我們住在埔里︽⊙＿⊙︽的稻湘村民宿，司機駕駛功力一流，狹窄的山路依然開得很妥當，一到民宿我們...     儲水    外婆   橋頭   \n",
       "\n",
       "              d    e ans  \n",
       "1095         媽媽   濕地   a  \n",
       "1096        太魯閣   金屬   d  \n",
       "1097  cleansing   蛋型   c  \n",
       "1098         新湖  阿灶伯   b  \n",
       "1099         錦記   山上   e  "
      ]
     },
     "execution_count": 75,
     "metadata": {},
     "output_type": "execute_result"
    }
   ],
   "source": [
    "path = 'question_samples/'\n",
    "qdf = pd.DataFrame()\n",
    "onlyfiles = [f for f in listdir(path) if f[0] == '2']\n",
    "for file in onlyfiles:\n",
    "    samples = []\n",
    "    i = 0\n",
    "    with open(path + file, 'r') as f:\n",
    "        for line in f:\n",
    "            i += 1\n",
    "            try:\n",
    "                no, content, a, b, c, d, e = re.findall(r'\\[(\\d+)\\](.*)### a:(.*), b:(.*), c:(.*), d:(.*), e:(.*)\\[END\\]', line)[0]\n",
    "                samples.append([file, no, content.strip(), a.strip(), b.strip(), c.strip(), d.strip(), e.strip()])\n",
    "            except:\n",
    "                pass\n",
    "    print('{}, '.format(i), end=\"\")\n",
    "    _qdf = pd.DataFrame(samples, columns=['file', 'no', 'content', 'a', 'b', 'c', 'd', 'e'])\n",
    "    _ans = line.split()\n",
    "    for _a in _ans:\n",
    "        if _a not in ANS:\n",
    "#             print(file)\n",
    "            continue\n",
    "    if len(_ans) != i - 1:\n",
    "#         print(file)\n",
    "        continue\n",
    "    ans = [_ans[int(s)-1] for s in _qdf.no.values]\n",
    "    _qdf = pd.concat([_qdf, pd.Series(ans, name='ans')], axis=1)\n",
    "    qdf = pd.concat([qdf, _qdf], axis=0, ignore_index=True)\n",
    "print('')\n",
    "\n",
    "print(qdf.shape)\n",
    "clean_qdf = qdf.drop_duplicates(subset=['content', 'a', 'b', 'c', 'd', 'e', 'ans'])\n",
    "print(clean_qdf.shape)\n",
    "clean_qdf.tail()"
   ]
  },
  {
   "cell_type": "code",
   "execution_count": 76,
   "metadata": {
    "collapsed": true
   },
   "outputs": [],
   "source": [
    "clean_qdf.to_csv('question_samples/raw_samples.csv', index=False)"
   ]
  },
  {
   "cell_type": "code",
   "execution_count": 77,
   "metadata": {
    "collapsed": false
   },
   "outputs": [
    {
     "name": "stdout",
     "output_type": "stream",
     "text": [
      "(550, 9)\n",
      "['国道', '小肚', 'gucci', '秋吉', '硫酸']\n",
      "c\n",
      "['竹节', '包', '的', '出现', '是', '来自', '战后', '物质', '匮乏', '的', '1947', '年', '\\u3000', '*', '工匠', '们', '独具', '巧心', '和', '创意', '的', '创作'] [13]\n"
     ]
    }
   ],
   "source": [
    "sample_df = pd.read_csv('question_samples/raw_samples_cn.csv')\n",
    "print(sample_df.shape)\n",
    "path = 'question_samples/'\n",
    "qdf = pd.DataFrame()\n",
    "\n",
    "print(sample_df[['a','b','c','d','e']].iloc[0].tolist())\n",
    "print(sample_df['ans'].iloc[0])\n",
    "wlist, qidx = simple_preprocess(sample_df['content'].iloc[0])\n",
    "print(wlist, qidx)\n",
    "# build_estimate_samples(wlist, qidx)"
   ]
  },
  {
   "cell_type": "code",
   "execution_count": 78,
   "metadata": {
    "collapsed": false
   },
   "outputs": [
    {
     "name": "stdout",
     "output_type": "stream",
     "text": [
      "(3182, 12)\n"
     ]
    },
    {
     "data": {
      "text/html": [
       "<div>\n",
       "<table border=\"1\" class=\"dataframe\">\n",
       "  <thead>\n",
       "    <tr style=\"text-align: right;\">\n",
       "      <th></th>\n",
       "      <th>w_idx</th>\n",
       "      <th>cbow_cos_ref</th>\n",
       "      <th>cbow_cos_syn1</th>\n",
       "      <th>cbow_cos_syn0</th>\n",
       "      <th>cbow_dist_syn0</th>\n",
       "      <th>sk_no</th>\n",
       "      <th>sk_word</th>\n",
       "      <th>sk_cos_ref</th>\n",
       "      <th>sk_cos_syn1</th>\n",
       "      <th>sk_cos_syn0</th>\n",
       "      <th>sk_dist_syn0</th>\n",
       "      <th>target</th>\n",
       "    </tr>\n",
       "  </thead>\n",
       "  <tbody>\n",
       "    <tr>\n",
       "      <th>3177</th>\n",
       "      <td>37218</td>\n",
       "      <td>5.432349</td>\n",
       "      <td>-0.206887</td>\n",
       "      <td>-0.272326</td>\n",
       "      <td>0.562308</td>\n",
       "      <td>5</td>\n",
       "      <td>储水</td>\n",
       "      <td>5.660539</td>\n",
       "      <td>0.016829</td>\n",
       "      <td>-0.863556</td>\n",
       "      <td>0.306192</td>\n",
       "      <td>0</td>\n",
       "    </tr>\n",
       "    <tr>\n",
       "      <th>3178</th>\n",
       "      <td>12982</td>\n",
       "      <td>2.979897</td>\n",
       "      <td>-0.650059</td>\n",
       "      <td>-0.087021</td>\n",
       "      <td>0.002072</td>\n",
       "      <td>5</td>\n",
       "      <td>外婆</td>\n",
       "      <td>1.508111</td>\n",
       "      <td>-1.007808</td>\n",
       "      <td>0.257491</td>\n",
       "      <td>0.652748</td>\n",
       "      <td>0</td>\n",
       "    </tr>\n",
       "    <tr>\n",
       "      <th>3179</th>\n",
       "      <td>11768</td>\n",
       "      <td>3.416854</td>\n",
       "      <td>-0.180517</td>\n",
       "      <td>-1.277707</td>\n",
       "      <td>1.095540</td>\n",
       "      <td>5</td>\n",
       "      <td>桥头</td>\n",
       "      <td>4.009564</td>\n",
       "      <td>-0.492371</td>\n",
       "      <td>-0.115242</td>\n",
       "      <td>0.112729</td>\n",
       "      <td>0</td>\n",
       "    </tr>\n",
       "    <tr>\n",
       "      <th>3180</th>\n",
       "      <td>163229</td>\n",
       "      <td>3.471575</td>\n",
       "      <td>-0.698616</td>\n",
       "      <td>0.130863</td>\n",
       "      <td>-0.086343</td>\n",
       "      <td>5</td>\n",
       "      <td>锦记</td>\n",
       "      <td>5.576158</td>\n",
       "      <td>-0.164263</td>\n",
       "      <td>-0.846522</td>\n",
       "      <td>0.666917</td>\n",
       "      <td>0</td>\n",
       "    </tr>\n",
       "    <tr>\n",
       "      <th>3181</th>\n",
       "      <td>3641</td>\n",
       "      <td>2.041267</td>\n",
       "      <td>1.736079</td>\n",
       "      <td>1.506190</td>\n",
       "      <td>-1.573576</td>\n",
       "      <td>5</td>\n",
       "      <td>山上</td>\n",
       "      <td>1.661321</td>\n",
       "      <td>1.647613</td>\n",
       "      <td>1.567829</td>\n",
       "      <td>-1.738586</td>\n",
       "      <td>1</td>\n",
       "    </tr>\n",
       "  </tbody>\n",
       "</table>\n",
       "</div>"
      ],
      "text/plain": [
       "       w_idx  cbow_cos_ref  cbow_cos_syn1  cbow_cos_syn0  cbow_dist_syn0  \\\n",
       "3177   37218      5.432349      -0.206887      -0.272326        0.562308   \n",
       "3178   12982      2.979897      -0.650059      -0.087021        0.002072   \n",
       "3179   11768      3.416854      -0.180517      -1.277707        1.095540   \n",
       "3180  163229      3.471575      -0.698616       0.130863       -0.086343   \n",
       "3181    3641      2.041267       1.736079       1.506190       -1.573576   \n",
       "\n",
       "      sk_no sk_word  sk_cos_ref  sk_cos_syn1  sk_cos_syn0  sk_dist_syn0  \\\n",
       "3177      5      储水    5.660539     0.016829    -0.863556      0.306192   \n",
       "3178      5      外婆    1.508111    -1.007808     0.257491      0.652748   \n",
       "3179      5      桥头    4.009564    -0.492371    -0.115242      0.112729   \n",
       "3180      5      锦记    5.576158    -0.164263    -0.846522      0.666917   \n",
       "3181      5      山上    1.661321     1.647613     1.567829     -1.738586   \n",
       "\n",
       "      target  \n",
       "3177       0  \n",
       "3178       0  \n",
       "3179       0  \n",
       "3180       0  \n",
       "3181       1  "
      ]
     },
     "execution_count": 78,
     "metadata": {},
     "output_type": "execute_result"
    }
   ],
   "source": [
    "nrow, ncol = sample_df.shape\n",
    "train_df = pd.DataFrame()\n",
    "for i in range(nrow):\n",
    "    no = sample_df['no'].iloc[i]\n",
    "    wlist, qidx = simple_preprocess(sample_df['content'].iloc[i])\n",
    "    opt_list = sample_df[['a','b','c','d','e']].iloc[i].tolist()\n",
    "    ans = sample_df['ans'].iloc[i]\n",
    "    sen_list = build_estimate_samples(wlist, qidx)\n",
    "    for w_list in sen_list:\n",
    "        cbow_df = generate_feature(no, w_list, opt_list, ans, cbow_model, cbow_syn1neg, 'cbow')\n",
    "        cbow_df.drop(['cbow_target', 'cbow_no', 'cbow_word'], axis=1, inplace=True)\n",
    "        cbow_df.rename(columns = {'cbow_w_idx':'w_idx'}, inplace = True)\n",
    "        sk_df = generate_feature(no, w_list, opt_list, ans, sk_model, sk_syn1neg, 'sk')\n",
    "        sk_df.drop(['sk_w_idx'], axis=1, inplace=True)\n",
    "        sk_df.rename(columns = {'sk_target':'target'}, inplace = True)\n",
    "        df = pd.concat([cbow_df, sk_df], axis = 1)\n",
    "        train_df = pd.concat([train_df, df], axis = 0, ignore_index=True)\n",
    "print(train_df.shape)\n",
    "train_df.tail()"
   ]
  },
  {
   "cell_type": "code",
   "execution_count": 79,
   "metadata": {
    "collapsed": false
   },
   "outputs": [
    {
     "data": {
      "text/plain": [
       "file                                 2016-08-10-01-52-38.txt\n",
       "no                                                         5\n",
       "content    我们住在埔里︽⊙＿⊙︽的稻湘村民宿，司机驾驶功力一流，狭窄的山路依然开得很妥当，一到民宿我们...\n",
       "a                                                         储水\n",
       "b                                                         外婆\n",
       "c                                                         桥头\n",
       "d                                                         锦记\n",
       "e                                                         山上\n",
       "ans                                                        e\n",
       "Name: 549, dtype: object"
      ]
     },
     "execution_count": 79,
     "metadata": {},
     "output_type": "execute_result"
    }
   ],
   "source": [
    "sample_df.iloc[i]\n",
    "# print(wlist)\n",
    "# sample_df[sample_df['file'] == '2016-08-12-18-06-27.txt']"
   ]
  },
  {
   "cell_type": "code",
   "execution_count": 81,
   "metadata": {
    "collapsed": true
   },
   "outputs": [],
   "source": [
    "# train_df.to_csv('question_samples/train_df.csv', index=False)"
   ]
  },
  {
   "cell_type": "code",
   "execution_count": 17,
   "metadata": {
    "collapsed": false
   },
   "outputs": [
    {
     "name": "stdout",
     "output_type": "stream",
     "text": [
      "(3182, 10)\n"
     ]
    },
    {
     "data": {
      "text/html": [
       "<div>\n",
       "<table border=\"1\" class=\"dataframe\">\n",
       "  <thead>\n",
       "    <tr style=\"text-align: right;\">\n",
       "      <th></th>\n",
       "      <th>w_idx</th>\n",
       "      <th>cbow_cos_ref</th>\n",
       "      <th>cbow_cos_syn1</th>\n",
       "      <th>cbow_cos_syn0</th>\n",
       "      <th>cbow_dist_syn0</th>\n",
       "      <th>sk_cos_ref</th>\n",
       "      <th>sk_cos_syn1</th>\n",
       "      <th>sk_cos_syn0</th>\n",
       "      <th>sk_dist_syn0</th>\n",
       "      <th>target</th>\n",
       "    </tr>\n",
       "  </thead>\n",
       "  <tbody>\n",
       "    <tr>\n",
       "      <th>3177</th>\n",
       "      <td>-0.095949</td>\n",
       "      <td>5.432349</td>\n",
       "      <td>-0.206887</td>\n",
       "      <td>-0.272326</td>\n",
       "      <td>0.562308</td>\n",
       "      <td>5.660539</td>\n",
       "      <td>0.016829</td>\n",
       "      <td>-0.863556</td>\n",
       "      <td>0.306192</td>\n",
       "      <td>0</td>\n",
       "    </tr>\n",
       "    <tr>\n",
       "      <th>3178</th>\n",
       "      <td>-0.372958</td>\n",
       "      <td>2.979897</td>\n",
       "      <td>-0.650059</td>\n",
       "      <td>-0.087021</td>\n",
       "      <td>0.002072</td>\n",
       "      <td>1.508111</td>\n",
       "      <td>-1.007808</td>\n",
       "      <td>0.257491</td>\n",
       "      <td>0.652748</td>\n",
       "      <td>0</td>\n",
       "    </tr>\n",
       "    <tr>\n",
       "      <th>3179</th>\n",
       "      <td>-0.386834</td>\n",
       "      <td>3.416854</td>\n",
       "      <td>-0.180517</td>\n",
       "      <td>-1.277707</td>\n",
       "      <td>1.095540</td>\n",
       "      <td>4.009564</td>\n",
       "      <td>-0.492371</td>\n",
       "      <td>-0.115242</td>\n",
       "      <td>0.112729</td>\n",
       "      <td>0</td>\n",
       "    </tr>\n",
       "    <tr>\n",
       "      <th>3180</th>\n",
       "      <td>1.344312</td>\n",
       "      <td>3.471575</td>\n",
       "      <td>-0.698616</td>\n",
       "      <td>0.130863</td>\n",
       "      <td>-0.086343</td>\n",
       "      <td>5.576158</td>\n",
       "      <td>-0.164263</td>\n",
       "      <td>-0.846522</td>\n",
       "      <td>0.666917</td>\n",
       "      <td>0</td>\n",
       "    </tr>\n",
       "    <tr>\n",
       "      <th>3181</th>\n",
       "      <td>-0.479723</td>\n",
       "      <td>2.041267</td>\n",
       "      <td>1.736079</td>\n",
       "      <td>1.506190</td>\n",
       "      <td>-1.573576</td>\n",
       "      <td>1.661321</td>\n",
       "      <td>1.647613</td>\n",
       "      <td>1.567829</td>\n",
       "      <td>-1.738586</td>\n",
       "      <td>1</td>\n",
       "    </tr>\n",
       "  </tbody>\n",
       "</table>\n",
       "</div>"
      ],
      "text/plain": [
       "         w_idx  cbow_cos_ref  cbow_cos_syn1  cbow_cos_syn0  cbow_dist_syn0  \\\n",
       "3177 -0.095949      5.432349      -0.206887      -0.272326        0.562308   \n",
       "3178 -0.372958      2.979897      -0.650059      -0.087021        0.002072   \n",
       "3179 -0.386834      3.416854      -0.180517      -1.277707        1.095540   \n",
       "3180  1.344312      3.471575      -0.698616       0.130863       -0.086343   \n",
       "3181 -0.479723      2.041267       1.736079       1.506190       -1.573576   \n",
       "\n",
       "      sk_cos_ref  sk_cos_syn1  sk_cos_syn0  sk_dist_syn0  target  \n",
       "3177    5.660539     0.016829    -0.863556      0.306192       0  \n",
       "3178    1.508111    -1.007808     0.257491      0.652748       0  \n",
       "3179    4.009564    -0.492371    -0.115242      0.112729       0  \n",
       "3180    5.576158    -0.164263    -0.846522      0.666917       0  \n",
       "3181    1.661321     1.647613     1.567829     -1.738586       1  "
      ]
     },
     "execution_count": 17,
     "metadata": {},
     "output_type": "execute_result"
    }
   ],
   "source": [
    "train_df = pd.read_csv('question_samples/train_df.csv')\n",
    "train_df.drop(['sk_no', 'sk_word'], axis=1, inplace=True)\n",
    "train_df[['w_idx']] = (train_df[['w_idx']] - train_df[['w_idx']].mean()) / train_df[['w_idx']].std()\n",
    "data, target = train_df.drop(['target'],axis=1).values, train_df['target'].values\n",
    "print(train_df.shape)\n",
    "train_df.tail()"
   ]
  },
  {
   "cell_type": "code",
   "execution_count": 33,
   "metadata": {
    "collapsed": false
   },
   "outputs": [
    {
     "name": "stdout",
     "output_type": "stream",
     "text": [
      "running cross validation\n",
      "[0]\ttrain-error:0.0461975+0.0009425\ttest-error:0.067253+0\n",
      "[1]\ttrain-error:0.0461975+0.0009425\ttest-error:0.067253+0\n",
      "[2]\ttrain-error:0.0461975+0.0009425\ttest-error:0.065682+0.001571\n",
      "[3]\ttrain-error:0.045569+0.000943\ttest-error:0.062225+0.005028\n",
      "[4]\ttrain-error:0.0452545+0.0006285\ttest-error:0.059711+0.005028\n",
      "[5]\ttrain-error:0.0449405+0.0003145\ttest-error:0.060654+0.003457\n",
      "[6]\ttrain-error:0.0452545+0.0006285\ttest-error:0.060968+0.003143\n",
      "[7]\ttrain-error:0.043997+0\ttest-error:0.0600255+0.0040855\n",
      "[8]\ttrain-error:0.043683+0.000314\ttest-error:0.0603395+0.0031425\n",
      "[9]\ttrain-error:0.042112+0\ttest-error:0.0603395+0.0031425\n"
     ]
    },
    {
     "data": {
      "text/html": [
       "<div>\n",
       "<table border=\"1\" class=\"dataframe\">\n",
       "  <thead>\n",
       "    <tr style=\"text-align: right;\">\n",
       "      <th></th>\n",
       "      <th>test-error-mean</th>\n",
       "      <th>test-error-std</th>\n",
       "      <th>train-error-mean</th>\n",
       "      <th>train-error-std</th>\n",
       "    </tr>\n",
       "  </thead>\n",
       "  <tbody>\n",
       "    <tr>\n",
       "      <th>0</th>\n",
       "      <td>0.067253</td>\n",
       "      <td>0.000000</td>\n",
       "      <td>0.046198</td>\n",
       "      <td>0.000943</td>\n",
       "    </tr>\n",
       "    <tr>\n",
       "      <th>1</th>\n",
       "      <td>0.067253</td>\n",
       "      <td>0.000000</td>\n",
       "      <td>0.046198</td>\n",
       "      <td>0.000943</td>\n",
       "    </tr>\n",
       "    <tr>\n",
       "      <th>2</th>\n",
       "      <td>0.065682</td>\n",
       "      <td>0.001571</td>\n",
       "      <td>0.046198</td>\n",
       "      <td>0.000943</td>\n",
       "    </tr>\n",
       "    <tr>\n",
       "      <th>3</th>\n",
       "      <td>0.062225</td>\n",
       "      <td>0.005028</td>\n",
       "      <td>0.045569</td>\n",
       "      <td>0.000943</td>\n",
       "    </tr>\n",
       "    <tr>\n",
       "      <th>4</th>\n",
       "      <td>0.059711</td>\n",
       "      <td>0.005028</td>\n",
       "      <td>0.045255</td>\n",
       "      <td>0.000629</td>\n",
       "    </tr>\n",
       "    <tr>\n",
       "      <th>5</th>\n",
       "      <td>0.060654</td>\n",
       "      <td>0.003457</td>\n",
       "      <td>0.044940</td>\n",
       "      <td>0.000314</td>\n",
       "    </tr>\n",
       "    <tr>\n",
       "      <th>6</th>\n",
       "      <td>0.060968</td>\n",
       "      <td>0.003143</td>\n",
       "      <td>0.045255</td>\n",
       "      <td>0.000629</td>\n",
       "    </tr>\n",
       "    <tr>\n",
       "      <th>7</th>\n",
       "      <td>0.060025</td>\n",
       "      <td>0.004086</td>\n",
       "      <td>0.043997</td>\n",
       "      <td>0.000000</td>\n",
       "    </tr>\n",
       "    <tr>\n",
       "      <th>8</th>\n",
       "      <td>0.060339</td>\n",
       "      <td>0.003142</td>\n",
       "      <td>0.043683</td>\n",
       "      <td>0.000314</td>\n",
       "    </tr>\n",
       "    <tr>\n",
       "      <th>9</th>\n",
       "      <td>0.060339</td>\n",
       "      <td>0.003142</td>\n",
       "      <td>0.042112</td>\n",
       "      <td>0.000000</td>\n",
       "    </tr>\n",
       "  </tbody>\n",
       "</table>\n",
       "</div>"
      ],
      "text/plain": [
       "   test-error-mean  test-error-std  train-error-mean  train-error-std\n",
       "0         0.067253        0.000000          0.046198         0.000943\n",
       "1         0.067253        0.000000          0.046198         0.000943\n",
       "2         0.065682        0.001571          0.046198         0.000943\n",
       "3         0.062225        0.005028          0.045569         0.000943\n",
       "4         0.059711        0.005028          0.045255         0.000629\n",
       "5         0.060654        0.003457          0.044940         0.000314\n",
       "6         0.060968        0.003143          0.045255         0.000629\n",
       "7         0.060025        0.004086          0.043997         0.000000\n",
       "8         0.060339        0.003142          0.043683         0.000314\n",
       "9         0.060339        0.003142          0.042112         0.000000"
      ]
     },
     "execution_count": 33,
     "metadata": {},
     "output_type": "execute_result"
    }
   ],
   "source": [
    "# xgboost regression approach\n",
    "param = {'max_depth':3, 'eta':0.1, 'silent':1, 'objective':'binary:logistic'}\n",
    "dtrain = xgb.DMatrix( data, label=target)\n",
    "num_round = 10\n",
    "print ('running cross validation')\n",
    "# do cross validation, this will print result out as\n",
    "# [iteration]  metric_name:mean_value+std_value\n",
    "# std_value is standard deviation of the metric\n",
    "xgb.cv(param, dtrain, num_round, nfold=2,\n",
    "       metrics={'error'}, seed = 0,\n",
    "       callbacks=[xgb.callback.print_evaluation(show_stdv=True)])"
   ]
  },
  {
   "cell_type": "code",
   "execution_count": 19,
   "metadata": {
    "collapsed": false
   },
   "outputs": [
    {
     "name": "stdout",
     "output_type": "stream",
     "text": [
      "[ 0.94034537  0.94191523  0.94191523  0.94496855  0.9480315 ]\n"
     ]
    }
   ],
   "source": [
    "# logistic regression approach: cross validation\n",
    "clf = LogisticRegression()\n",
    "scores = cross_validation.cross_val_score(clf, data, target, cv=5)\n",
    "print(scores)\n",
    "# print()"
   ]
  },
  {
   "cell_type": "code",
   "execution_count": 20,
   "metadata": {
    "collapsed": false
   },
   "outputs": [
    {
     "data": {
      "text/plain": [
       "array([[-0.31425972, -0.17796383,  2.5085388 , -1.79239388, -1.95315814,\n",
       "        -0.02313124,  1.88269079, -0.23159453, -0.18966862]])"
      ]
     },
     "execution_count": 20,
     "metadata": {},
     "output_type": "execute_result"
    }
   ],
   "source": [
    "# logistic regression approach: train model\n",
    "clf = LogisticRegression()\n",
    "clf.fit(data, target)\n",
    "clf.coef_"
   ]
  },
  {
   "cell_type": "code",
   "execution_count": 22,
   "metadata": {
    "collapsed": false
   },
   "outputs": [
    {
     "data": {
      "text/plain": [
       "['w2v-experiment/model/lrmodel_cbow+sk.pkl',\n",
       " 'w2v-experiment/model/lrmodel_cbow+sk.pkl_01.npy',\n",
       " 'w2v-experiment/model/lrmodel_cbow+sk.pkl_02.npy',\n",
       " 'w2v-experiment/model/lrmodel_cbow+sk.pkl_03.npy',\n",
       " 'w2v-experiment/model/lrmodel_cbow+sk.pkl_04.npy']"
      ]
     },
     "execution_count": 22,
     "metadata": {},
     "output_type": "execute_result"
    }
   ],
   "source": [
    "# save model\n",
    "from sklearn.externals import joblib\n",
    "joblib.dump(clf, 'w2v-experiment/model/lrmodel_cbow+sk.pkl') \n"
   ]
  },
  {
   "cell_type": "code",
   "execution_count": 23,
   "metadata": {
    "collapsed": false
   },
   "outputs": [
    {
     "name": "stdout",
     "output_type": "stream",
     "text": [
      "[0 0 1 0 0 0 1 0 0 0]\n",
      "(10,)\n"
     ]
    }
   ],
   "source": [
    "clf = joblib.load('w2v-experiment/model/lrmodel_cbow+sk.pkl')\n",
    "a = clf.predict_proba(data)\n",
    "print(target[:10])\n",
    "print(a[:10,1].shape)\n"
   ]
  },
  {
   "cell_type": "code",
   "execution_count": 34,
   "metadata": {
    "collapsed": true
   },
   "outputs": [],
   "source": [
    "# xgboost regression approach\n",
    "param = {'max_depth':3, 'eta':0.1, 'silent':1, 'objective':'binary:logistic'}\n",
    "dtrain = xgb.DMatrix( data, label=target)\n",
    "bst = xgb.train(param, dtrain, 10)"
   ]
  },
  {
   "cell_type": "code",
   "execution_count": 35,
   "metadata": {
    "collapsed": true
   },
   "outputs": [],
   "source": [
    "# bst.save_model('w2v-experiment/model/xgb.model')"
   ]
  },
  {
   "cell_type": "code",
   "execution_count": 36,
   "metadata": {
    "collapsed": true
   },
   "outputs": [],
   "source": [
    "bst = xgb.Booster({'nthread':4})\n",
    "bst.load_model('w2v-experiment/model/xgb.model')"
   ]
  },
  {
   "cell_type": "code",
   "execution_count": 37,
   "metadata": {
    "collapsed": false
   },
   "outputs": [
    {
     "name": "stdout",
     "output_type": "stream",
     "text": [
      "[ 0.18864925  0.18864925  0.54521072  0.20367649  0.18864925  0.18864925\n",
      "  0.77695411  0.30488086  0.19640976  0.18864925]\n",
      "[0 0 1 0 0 0 1 0 0 0]\n",
      "(3182, 9)\n"
     ]
    }
   ],
   "source": [
    "a = bst.predict(dtrain)\n",
    "print(a[:10])\n",
    "print(target[:10])\n",
    "print(data.shape)"
   ]
  },
  {
   "cell_type": "code",
   "execution_count": null,
   "metadata": {
    "collapsed": true
   },
   "outputs": [],
   "source": []
  }
 ],
 "metadata": {
  "anaconda-cloud": {},
  "kernelspec": {
   "display_name": "Python [Root]",
   "language": "python",
   "name": "Python [Root]"
  },
  "language_info": {
   "codemirror_mode": {
    "name": "ipython",
    "version": 3
   },
   "file_extension": ".py",
   "mimetype": "text/x-python",
   "name": "python",
   "nbconvert_exporter": "python",
   "pygments_lexer": "ipython3",
   "version": "3.5.2"
  }
 },
 "nbformat": 4,
 "nbformat_minor": 0
}
